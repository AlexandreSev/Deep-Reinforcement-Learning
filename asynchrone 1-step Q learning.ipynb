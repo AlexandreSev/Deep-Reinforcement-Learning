{
 "cells": [
  {
   "cell_type": "code",
   "execution_count": 1,
   "metadata": {
    "collapsed": false
   },
   "outputs": [],
   "source": [
    "import gym\n",
    "import time\n",
    "\n",
    "import numpy as np\n",
    "np.random.seed(42)\n",
    "\n",
    "import multiprocessing as mp\n",
    "import ctypes"
   ]
  },
  {
   "cell_type": "code",
   "execution_count": 2,
   "metadata": {
    "collapsed": true
   },
   "outputs": [],
   "source": [
    "def weight_variable(shape, name=None):\n",
    "    import tensorflow as tf\n",
    "    initial = tf.truncated_normal(shape, stddev=0.1)\n",
    "    return tf.Variable(initial, name=name)\n",
    "\n",
    "def bias_variable(shape, name=None):\n",
    "    import tensorflow as tf\n",
    "    initial = tf.constant(0.1, shape=shape)\n",
    "    return tf.Variable(initial, name=name)"
   ]
  },
  {
   "cell_type": "code",
   "execution_count": 3,
   "metadata": {
    "collapsed": true
   },
   "outputs": [],
   "source": [
    "class ApproximationFunction():\n",
    "    \n",
    "    def __init__(self, name):\n",
    "        self.name=name"
   ]
  },
  {
   "cell_type": "code",
   "execution_count": 4,
   "metadata": {
    "collapsed": false
   },
   "outputs": [],
   "source": [
    "def create_variable(name=\"\", input_size=4, output_size=2, n_hidden=2, hidden_size=[128, 64]):\n",
    "    import tensorflow as tf\n",
    "    \n",
    "    variables_dict = {}\n",
    "    variables_dict[\"W1\" + name] = weight_variable([input_size, hidden_size[0]], name=\"W1\" + name)\n",
    "    variables_dict[\"b1\" + name] = bias_variable((1, hidden_size[0]), name=\"b1\" + name)\n",
    "    \n",
    "    for i in range(n_hidden-1):\n",
    "        variables_dict[\"W\"+str(i+2) + name] = weight_variable([hidden_size[i], hidden_size[i+1]], name=\"W\"+str(i+2) + name)\n",
    "        variables_dict[\"b\"+str(i+2) + name] = bias_variable((1, hidden_size[i+1]), name=\"b\"+str(i+2) + name)\n",
    "    \n",
    "    variables_dict[\"Wo\" + name] = weight_variable([hidden_size[-1], output_size], name=\"Wo\" + name)\n",
    "    variables_dict[\"bo\" + name] = bias_variable((1, output_size), name=\"bo\" + name)\n",
    "    \n",
    "    variables_dict[\"input_observation\"] = tf.placeholder(tf.float32, shape=[None, input_size], name=\"i_observation\" + name)\n",
    "    \n",
    "    variables_dict[\"y_true\"] = tf.placeholder(tf.float32, shape=[None, output_size], name=\"y_true\" + name)\n",
    "    variables_dict[\"y_action\"] = tf.placeholder(tf.float32, shape=[None, output_size], name=\"action\" + name)\n",
    "    \n",
    "    return variables_dict\n",
    "\n",
    "def build_model(variables_dict, name=\"\", input_size=4, output_size=2, n_hidden=2, hidden_size=[128, 64], \n",
    "                learning_rate=0.001):\n",
    "    \"\"\"\n",
    "    Create a simple model\n",
    "    \"\"\"\n",
    "    import tensorflow as tf\n",
    "    \n",
    "    y = tf.nn.relu(tf.matmul(variables_dict[\"input_observation\"], variables_dict[\"W1\" + name]) + \n",
    "                   variables_dict[\"b1\" + name], name=\"y1\" + name)\n",
    "    \n",
    "    for i in range(n_hidden-1):\n",
    "        y = tf.nn.relu(tf.matmul(y, variables_dict[\"W\"+str(i+2) + name]) + \n",
    "                       variables_dict[\"b\"+str(i+2) + name], name=\"y\"+str(i+2) + name)\n",
    "    \n",
    "    y = tf.matmul(y, variables_dict[\"Wo\" + name]) + variables_dict[\"bo\" + name]\n",
    "    \n",
    "    loss_list = tf.nn.l2_loss(y * variables_dict[\"y_action\"] - variables_dict[\"y_true\"])\n",
    "    loss = tf.reduce_mean(loss_list)\n",
    "    \n",
    "    train_step = tf.train.RMSPropOptimizer(learning_rate).minimize(loss)\n",
    "\n",
    "    return y,  loss, train_step\n",
    "\n",
    "def best_choice(variables_dict, observation, sess):\n",
    "    import tensorflow as tf\n",
    "    feed_dic = {variables_dict[\"input_observation\"]: observation.reshape((1, -1))}\n",
    "    reward = sess.run(variables_dict[\"y\"], feed_dict=feed_dic)\n",
    "    return np.argmax(reward), np.max(reward)\n",
    "\n",
    "def best_action(variables_dict, observation, sess):\n",
    "    return best_choice(variables_dict, observation, sess)[0]\n",
    "\n",
    "def best_reward(variables_dict, observation, sess):\n",
    "    return best_choice(variables_dict, observation, sess)[1]\n",
    "\n",
    "def epsilon_greedy_policy(variables_dict, observation, epsilon, env, sess):\n",
    "    u = np.random.binomial(1, epsilon)\n",
    "    if u:\n",
    "        return env.action_space.sample()\n",
    "    else:\n",
    "        return best_action(variables_dict, observation, sess)"
   ]
  },
  {
   "cell_type": "code",
   "execution_count": 5,
   "metadata": {
    "collapsed": true
   },
   "outputs": [],
   "source": [
    "def assign_value_to_theta(l_theta, variables_dict, sess):\n",
    "    import tensorflow as tf\n",
    "    keys = variables_dict.keys()\n",
    "    keys.sort()\n",
    "    for i, key in enumerate(keys):\n",
    "        if key not in [\"input_observation\", \"y_true\", \"y_action\", \"y\"]:\n",
    "            with l_theta[i].get_lock():\n",
    "                l_theta[i].value = sess.run(variables_dict[key])\n",
    "    return l_theta\n",
    "    \n",
    "def read_value_from_theta(l_theta, variables_dict, sess):\n",
    "    import tensorflow as tf\n",
    "    keys = variables_dict.keys()\n",
    "    keys.sort()\n",
    "    for i, key in enumerate(keys):\n",
    "        if key not in [\"input_observation\", \"y_true\", \"y_action\", \"y\"]:\n",
    "            variables_dict[key] = tf.assign(variables_dict[key], l_theta[i].value)\n",
    "    return variables_dict\n",
    "\n",
    "def initialise(input_size=4, output_size=2, n_hidden=2, hidden_size=[128, 64]):\n",
    "    l_theta = []\n",
    "    \n",
    "    shapes = [(input_size, hidden_size[0])]\n",
    "    for i in range(n_hidden - 1):\n",
    "        shapes.append((hidden_size[i], hidden_size[i+1]))\n",
    "    shapes.append((hidden_size[-1], output_size))\n",
    "    \n",
    "    shapes.append((1, hidden_size[0]))\n",
    "    for i in range(n_hidden - 1):\n",
    "        shapes.append((1, hidden_size[i+1]))\n",
    "    shapes.append((1, output_size))\n",
    "    \n",
    "    for i, shape in enumerate(shapes):\n",
    "        l_theta.append(mp.Array(ctypes.c_double, shape))\n",
    "        l_theta[i].value = np.random.uniform(low=-0.01, high=0.01, size=shape)\n",
    "        \n",
    "    return l_theta"
   ]
  },
  {
   "cell_type": "code",
   "execution_count": 21,
   "metadata": {
    "collapsed": false
   },
   "outputs": [],
   "source": [
    "class slave_worker(mp.Process):\n",
    "    \n",
    "    def __init__(self, T_max=100, Itarget=15, Iasyncupdate=10, gamma=0.9, learning_rate=0.001, \n",
    "                   env_name=\"CartPole-v0\", model_option={\"n_hidden\":1, \"hidden_size\":[10]}, verbose=False, **kwargs):\n",
    "        import tensorflow as tf\n",
    "        \n",
    "        super(slave_worker, self).__init__(**kwargs)\n",
    "        self.T_max = T_max\n",
    "        self.Itarget = Itarget\n",
    "        self.Iasyncupdate = Iasyncupdate\n",
    "        self.gamma = gamma\n",
    "        self.learning_rate = learning_rate\n",
    "        self.env = gym.make(env_name)\n",
    "        \n",
    "        self.variables_dict = create_variable(n_hidden=model_option[\"n_hidden\"], hidden_size=model_option[\"hidden_size\"])\n",
    "        temp = build_model(self.variables_dict, n_hidden=model_option[\"n_hidden\"], \n",
    "                                 hidden_size=model_option[\"hidden_size\"])\n",
    "        self.variables_dict[\"y\"], self.loss, self.train_step = temp\n",
    "        \n",
    "        self.variables_dict_minus = create_variable(name=\"_minus\", n_hidden=model_option[\"n_hidden\"], \n",
    "                                                   hidden_size=model_option[\"hidden_size\"])\n",
    "        temp = build_model(self.variables_dict_minus, name=\"_minus\", n_hidden=model_option[\"n_hidden\"], \n",
    "                                       hidden_size=model_option[\"hidden_size\"])\n",
    "        self.variables_dict_minus[\"y\"], self.loss_minus, self.train_step_minus = temp\n",
    "        \n",
    "        self.sess = tf.Session()\n",
    "        \n",
    "        self.sess.run(tf.global_variables_initializer())\n",
    "        \n",
    "        \n",
    "        \n",
    "        \n",
    "    def run(self):\n",
    "        global T, l_theta, l_theta_minus\n",
    "        import tensorflow as tf\n",
    "        \n",
    "        self.variables_dict = read_value_from_theta(l_theta, self.variables_dict, self.sess)\n",
    "\n",
    "        self.variables_dict_minus = read_value_from_theta(l_theta_minus, self.variables_dict_minus, self.sess)\n",
    "\n",
    "        epsilon = 0\n",
    "        t = 0\n",
    "        x_batch = 0\n",
    "        y_batch = []\n",
    "        nb_env = 0\n",
    "        firstiter=True\n",
    "        observation = self.env.reset()\n",
    "        t_init = t\n",
    "\n",
    "        print(\"T_max = %s\"%self.T_max)\n",
    "\n",
    "        while T.value<self.T_max:\n",
    "\n",
    "            self.variables_dict_minus = read_value_from_theta(l_theta_minus, self.variables_dict_minus, self.sess)\n",
    "\n",
    "            action = epsilon_greedy_policy(self.variables_dict, observation, epsilon, self.env, self.sess)\n",
    "\n",
    "            observationprime, reward, done, info = self.env.step(action) \n",
    "\n",
    "            if t - t_init > 200:\n",
    "                done = True\n",
    "\n",
    "            if done:\n",
    "                y = reward\n",
    "                observationprime = self.env.reset()\n",
    "                t_init = t + 1\n",
    "                nb_env += 1\n",
    "            else:\n",
    "                y = reward + self.gamma * best_reward(self.variables_dict_minus, observationprime, self.sess)\n",
    "\n",
    "            if firstiter:\n",
    "                firstiter=False\n",
    "                observation_batch = observation\n",
    "                action_batch = [action]\n",
    "            else:\n",
    "                observation_batch = np.vstack((observation_batch, observation))\n",
    "                action_batch.append(action)\n",
    "            y_batch.append(y)\n",
    "            observation = observationprime\n",
    "            with T.get_lock():\n",
    "                T.value += 1\n",
    "            t += 1\n",
    "            if T.value %self.Itarget == 0:\n",
    "                for i, theta_minus in enumerate(l_theta_minus):\n",
    "                    with theta_minus.get_lock():\n",
    "                        l_theta_minus[i].value = l_theta[i].value\n",
    "            if t %self.Iasyncupdate == 0:\n",
    "                action_batch_arr = np.array(action_batch).reshape((-1, 1))\n",
    "                sampling = np.random.randint(0, len(y_batch), 64)\n",
    "\n",
    "                self.model.set_weights(read_value(theta, shapes))\n",
    "                self.model.train_on_batch([observation_batch[sampling, :], action_batch_arr[sampling, :]], \n",
    "                          np.array(y_batch).reshape((-1, 1))[sampling, :])\n",
    "\n",
    "\n",
    "                for i in range(len(l_theta)):\n",
    "                    with l_theta[i].get_lock():\n",
    "                        l_theta[i].value = self.model.get_weights()[i]\n",
    "\n",
    "            if epsilon>0.01:\n",
    "                epsilon -= 0.895/50000\n",
    "\n",
    "        return"
   ]
  },
  {
   "cell_type": "code",
   "execution_count": 22,
   "metadata": {
    "collapsed": true
   },
   "outputs": [],
   "source": [
    "def main(nb, T_max=100,  model_option={\"n_hidden\":1, \"hidden_size\":[10]}, env_name=\"CartPole-v0\"):\n",
    "    global T, l_theta, l_theta_minus\n",
    "    T = mp.Value('i', 0)\n",
    "    \n",
    "    l_theta = initialise(n_hidden=model_option[\"n_hidden\"], hidden_size=model_option[\"hidden_size\"])\n",
    "    l_theta_minus = initialise(n_hidden=model_option[\"n_hidden\"], hidden_size=model_option[\"hidden_size\"])\n",
    "    \n",
    "    jobs = []\n",
    "    for i in range(nb):\n",
    "        print(\"Process %s starting\"%i)\n",
    "        job = slave_worker()\n",
    "        job.run()\n",
    "        jobs.append(job)\n",
    "    \n",
    "    t_init = time.time()\n",
    "    while T.value<T_max:\n",
    "        if time.time() - t_init > 10:\n",
    "            print(T.value)\n",
    "            t_init = time.time()\n",
    "    print(\"Done\")\n",
    "    \n",
    "    model.set_weights(theta.value)\n",
    "    \n",
    "    env = gym.make(env_name)\n",
    "    observation = env.reset()\n",
    "\n",
    "    for t in range(100000):\n",
    "        env.render()\n",
    "        #print(model.predict(np.append(observation, [0])), model.predict(np.append(observation, [1])))\n",
    "        action = epsilon_greedy_policy(model, observation, 0.01)\n",
    "        #action = weighted_choice(model, observation)[0]\n",
    "        #print(\"NEXT\")\n",
    "        observation, reward, done, info = env.step(action)\n",
    "        if done:\n",
    "            print(\"Episode finished after {} timesteps\".format(t+1))\n",
    "            break"
   ]
  },
  {
   "cell_type": "markdown",
   "metadata": {},
   "source": [
    "global T, theta, theta_minus\n",
    "model_option={\"n_hidden\":1, \"hidden_size\":[10]}\n",
    "env_name=\"CartPole-v0\"\n",
    "T = mp.Value('i', 0)\n",
    "\n",
    "model = build_model(n_hidden=model_option[\"n_hidden\"], hidden_size=model_option[\"hidden_size\"])\n",
    "theta = mp.Array(ctypes.c_double, len(model.get_weights()))\n",
    "theta.value = model.get_weights()\n",
    "theta_minus  = mp.Array(ctypes.c_double, len(theta.value))\n",
    "theta_minus.value = theta.value\n",
    "\n",
    "theta.value"
   ]
  },
  {
   "cell_type": "code",
   "execution_count": 23,
   "metadata": {
    "collapsed": false
   },
   "outputs": [
    {
     "name": "stderr",
     "output_type": "stream",
     "text": [
      "[2017-02-23 07:42:25,576] Making new env: CartPole-v0\n"
     ]
    },
    {
     "name": "stdout",
     "output_type": "stream",
     "text": [
      "Process 0 starting\n",
      "T_max = 100\n"
     ]
    },
    {
     "ename": "AttributeError",
     "evalue": "'slave_worker' object has no attribute 'model'",
     "output_type": "error",
     "traceback": [
      "\u001b[0;31m---------------------------------------------------------------------------\u001b[0m",
      "\u001b[0;31mAttributeError\u001b[0m                            Traceback (most recent call last)",
      "\u001b[0;32m<ipython-input-23-9d335f479abd>\u001b[0m in \u001b[0;36m<module>\u001b[0;34m()\u001b[0m\n\u001b[0;32m----> 1\u001b[0;31m \u001b[0mmain\u001b[0m\u001b[0;34m(\u001b[0m\u001b[0;36m1\u001b[0m\u001b[0;34m)\u001b[0m\u001b[0;34m\u001b[0m\u001b[0m\n\u001b[0m",
      "\u001b[0;32m<ipython-input-22-3284c218783b>\u001b[0m in \u001b[0;36mmain\u001b[0;34m(nb, T_max, model_option, env_name)\u001b[0m\n\u001b[1;32m     10\u001b[0m         \u001b[0;32mprint\u001b[0m\u001b[0;34m(\u001b[0m\u001b[0;34m\"Process %s starting\"\u001b[0m\u001b[0;34m%\u001b[0m\u001b[0mi\u001b[0m\u001b[0;34m)\u001b[0m\u001b[0;34m\u001b[0m\u001b[0m\n\u001b[1;32m     11\u001b[0m         \u001b[0mjob\u001b[0m \u001b[0;34m=\u001b[0m \u001b[0mslave_worker\u001b[0m\u001b[0;34m(\u001b[0m\u001b[0;34m)\u001b[0m\u001b[0;34m\u001b[0m\u001b[0m\n\u001b[0;32m---> 12\u001b[0;31m         \u001b[0mjob\u001b[0m\u001b[0;34m.\u001b[0m\u001b[0mrun\u001b[0m\u001b[0;34m(\u001b[0m\u001b[0;34m)\u001b[0m\u001b[0;34m\u001b[0m\u001b[0m\n\u001b[0m\u001b[1;32m     13\u001b[0m         \u001b[0mjobs\u001b[0m\u001b[0;34m.\u001b[0m\u001b[0mappend\u001b[0m\u001b[0;34m(\u001b[0m\u001b[0mjob\u001b[0m\u001b[0;34m)\u001b[0m\u001b[0;34m\u001b[0m\u001b[0m\n\u001b[1;32m     14\u001b[0m \u001b[0;34m\u001b[0m\u001b[0m\n",
      "\u001b[0;32m<ipython-input-21-2d761783052e>\u001b[0m in \u001b[0;36mrun\u001b[0;34m(self)\u001b[0m\n\u001b[1;32m     89\u001b[0m                 \u001b[0msampling\u001b[0m \u001b[0;34m=\u001b[0m \u001b[0mnp\u001b[0m\u001b[0;34m.\u001b[0m\u001b[0mrandom\u001b[0m\u001b[0;34m.\u001b[0m\u001b[0mrandint\u001b[0m\u001b[0;34m(\u001b[0m\u001b[0;36m0\u001b[0m\u001b[0;34m,\u001b[0m \u001b[0mlen\u001b[0m\u001b[0;34m(\u001b[0m\u001b[0my_batch\u001b[0m\u001b[0;34m)\u001b[0m\u001b[0;34m,\u001b[0m \u001b[0;36m64\u001b[0m\u001b[0;34m)\u001b[0m\u001b[0;34m\u001b[0m\u001b[0m\n\u001b[1;32m     90\u001b[0m \u001b[0;34m\u001b[0m\u001b[0m\n\u001b[0;32m---> 91\u001b[0;31m                 \u001b[0mself\u001b[0m\u001b[0;34m.\u001b[0m\u001b[0mmodel\u001b[0m\u001b[0;34m.\u001b[0m\u001b[0mset_weights\u001b[0m\u001b[0;34m(\u001b[0m\u001b[0mread_value\u001b[0m\u001b[0;34m(\u001b[0m\u001b[0mtheta\u001b[0m\u001b[0;34m,\u001b[0m \u001b[0mshapes\u001b[0m\u001b[0;34m)\u001b[0m\u001b[0;34m)\u001b[0m\u001b[0;34m\u001b[0m\u001b[0m\n\u001b[0m\u001b[1;32m     92\u001b[0m                 self.model.train_on_batch([observation_batch[sampling, :], action_batch_arr[sampling, :]], \n\u001b[1;32m     93\u001b[0m                           np.array(y_batch).reshape((-1, 1))[sampling, :])\n",
      "\u001b[0;31mAttributeError\u001b[0m: 'slave_worker' object has no attribute 'model'"
     ]
    }
   ],
   "source": [
    "main(1)"
   ]
  },
  {
   "cell_type": "code",
   "execution_count": 12,
   "metadata": {
    "collapsed": false
   },
   "outputs": [
    {
     "data": {
      "text/plain": [
       "['W1', 'W2', 'Wo', 'b1', 'b2', 'bo']"
      ]
     },
     "execution_count": 12,
     "metadata": {},
     "output_type": "execute_result"
    }
   ],
   "source": [
    "a = [\"W1\", \"W2\", \"Wo\", \"b1\", \"b2\", \"bo\"]\n",
    "a.sort()\n",
    "a"
   ]
  },
  {
   "cell_type": "code",
   "execution_count": 4,
   "metadata": {
    "collapsed": true
   },
   "outputs": [],
   "source": [
    "def one_step_slave(T_max=100, Itarget=15, Iasyncupdate=10, gamma=0.9, learning_rate=0.001, \n",
    "                   env_name=\"CartPole-v0\", model_option={\"n_hidden\":1, \"hidden_size\":[10]}, verbose=False):\n",
    "    global T, l_theta, l_theta_minus\n",
    "\n",
    "    env = gym.make(env_name)\n",
    "    \n",
    "    print(\"Environnment created\")\n",
    "    \n",
    "    rmsprop = RMSprop(lr=learning_rate)\n",
    "    \n",
    "    print(\"Optimiser initialized\")\n",
    "    \n",
    "    model = build_model(n_hidden=model_option[\"n_hidden\"], hidden_size=model_option[\"hidden_size\"])\n",
    "    \n",
    "    print(\"Model created\")\n",
    "    \n",
    "\n",
    "    shapes = [weight.shape for weight in model.get_weights()]\n",
    "    weights = read_value(l_theta, shapes)\n",
    "    \n",
    "    print(\"Weights loaded\")\n",
    "    \n",
    "    model.set_weights(weights)\n",
    "    \n",
    "    print(\"Weights Initialized\")\n",
    "    \n",
    "    model.compile(loss='mse', optimizer=rmsprop)\n",
    "    \n",
    "    print(\"Model compiled\")\n",
    "    \n",
    "    modelminus = build_model(n_hidden=model_option[\"n_hidden\"], hidden_size=model_option[\"hidden_size\"])\n",
    "    modelminus.set_weights(weights)\n",
    "    modelminus.compile(loss='mse', optimizer=rmsprop)\n",
    "    \n",
    "    print(\"Modelminus compiled\")\n",
    "    \n",
    "    epsilon = 0.9\n",
    "    t = 0\n",
    "    x_batch = 0\n",
    "    y_batch = []\n",
    "    nb_env = 0\n",
    "    firstiter=True\n",
    "    observation = env.reset()\n",
    "    t_init = t\n",
    "    \n",
    "    print(\"T_max = %s\"%T_max)\n",
    "    \n",
    "    while T.value<T_max:\n",
    "        \n",
    "        modelminus.set_weights(read_value(l_theta_minus, shapes))\n",
    "        \n",
    "        action = epsilon_greedy_policy(model, observation, epsilon, env)\n",
    "        \n",
    "        observationprime, reward, done, info = env.step(action) \n",
    "        \n",
    "        if t - t_init > 200:\n",
    "            done = True\n",
    "\n",
    "        if done:\n",
    "            y = reward\n",
    "            observationprime = env.reset()\n",
    "            t_init = t + 1\n",
    "            nb_env += 1\n",
    "        else:\n",
    "            y = reward + gamma * best_reward(modelminus, observationprime)\n",
    "\n",
    "        if firstiter:\n",
    "            firstiter=False\n",
    "            observation_batch = observation\n",
    "            action_batch = [action]\n",
    "        else:\n",
    "            observation_batch = np.vstack((observation_batch, observation))\n",
    "            action_batch.append(action)\n",
    "        y_batch.append(y)\n",
    "        observation = observationprime\n",
    "        with T.get_lock():\n",
    "            T.value += 1\n",
    "        t += 1\n",
    "        if T.value %Itarget == 0:\n",
    "            for i, theta_minus in enumerate(l_theta_minus):\n",
    "                with theta_minus.get_lock():\n",
    "                    l_theta_minus[i].value = l_theta[i].value\n",
    "        if t %Iasyncupdate == 0:\n",
    "            action_batch_arr = np.array(action_batch).reshape((-1, 1))\n",
    "            sampling = np.random.randint(0, len(y_batch), 64)\n",
    "                    \n",
    "            model.set_weights(read_value(theta, shapes))\n",
    "            model.train_on_batch([observation_batch[sampling, :], action_batch_arr[sampling, :]], \n",
    "                      np.array(y_batch).reshape((-1, 1))[sampling, :])\n",
    "            \n",
    "            \n",
    "            for i in range(len(l_theta)):\n",
    "                with l_theta[i].get_lock():\n",
    "                    l_theta[i].value = model.get_weights()[i]\n",
    "\n",
    "        if epsilon>0.01:\n",
    "            epsilon -= 0.895/50000\n",
    "        \n",
    "    return"
   ]
  },
  {
   "cell_type": "code",
   "execution_count": null,
   "metadata": {
    "collapsed": false
   },
   "outputs": [],
   "source": [
    "gamma = 0.9\n",
    "Itarget = 15\n",
    "Iasyncupdate = 10\n",
    "nb_iter = 200000\n",
    "learning_rate = 0.001\n",
    "history = []\n",
    "\n",
    "# Initialisation\n",
    "env = gym.make('CartPole-v0')\n",
    "#model = build_model(n_hidden=3, hidden_size=[128, 64, 32])\n",
    "model = build_model()\n",
    "rmsprop = RMSprop(lr=learning_rate)\n",
    "model.compile(loss='mse', optimizer=rmsprop)\n",
    "\n",
    "#modelminus = build_model(n_hidden=3, hidden_size=[128, 64, 32])\n",
    "modelminus = build_model()\n",
    "modelminus.set_weights(model.get_weights())\n",
    "modelminus.compile(loss='mse', optimizer=rmsprop)\n",
    "\n",
    "theta = model.get_weights()\n",
    "T = 0\n",
    "t = 0\n",
    "epsilon = 0.9\n",
    "x_batch = 0\n",
    "y_batch = []\n",
    "nb_env = 0\n",
    "verbose = 20\n",
    "max_env = 50000\n",
    "firstiter=True\n",
    "observation = env.reset()\n",
    "t_init = t\n",
    "\n",
    "\n",
    "callback = History()\n",
    "last_reward = np.zeros(100)\n",
    "iteration = 0\n",
    "while nb_env<max_env:\n",
    "    iteration += 1\n",
    "    if nb_env %verbose == 0:\n",
    "        env.render()\n",
    "    if iteration%10000 == 0:\n",
    "        print(\"Iteration %s\"%iteration)\n",
    "    \n",
    "    \n",
    "    action = epsilon_greedy_policy(model, observation, epsilon)\n",
    "    observationprime, reward, done, info = env.step(action) \n",
    "    if t - t_init > 200:\n",
    "        done = True\n",
    "\n",
    "    if done:\n",
    "        y = reward\n",
    "        observationprime = env.reset()\n",
    "        if nb_env %verbose == 0:\n",
    "            if t-t_init < 195:\n",
    "                print(\"Episode %s finished in %s frames\"%(nb_env, t-t_init))\n",
    "            else:\n",
    "                print(\"Episode %s achieved with %s frames\"%(nb_env, t-t_init))\n",
    "        last_reward = np.roll(last_reward, 1)\n",
    "        last_reward[0] = t - t_init\n",
    "        if np.mean(last_reward)>195:\n",
    "            print(\"Environnement completed in %s iterations and %s episode\"%(iteration, nb_env))\n",
    "            break\n",
    "        t_init = t+1\n",
    "        nb_env += 1\n",
    "    else:\n",
    "        y = reward + gamma * best_reward(modelminus, observationprime)\n",
    "    \n",
    "    if firstiter:\n",
    "        firstiter=False\n",
    "        observation_batch = observation\n",
    "        action_batch = [action]\n",
    "    else:\n",
    "        observation_batch = np.vstack((observation_batch, observation))\n",
    "        action_batch.append(action)\n",
    "    y_batch.append(y)\n",
    "    #history.append(model.loss(observation, y, action))\n",
    "    observation = observationprime\n",
    "    T += 1\n",
    "    t += 1\n",
    "    if T %Itarget == 0:\n",
    "        modelminus.set_weights(model.get_weights())\n",
    "    if t %Iasyncupdate == 0:\n",
    "        action_batch_arr = np.array(action_batch).reshape((-1, 1))\n",
    "        \n",
    "        sampling = np.random.randint(0, len(y_batch), 64)\n",
    "        permut = np.random.permutation(Iasyncupdate)\n",
    "        model.train_on_batch([observation_batch[sampling, :], action_batch_arr[sampling, :]], \n",
    "                  np.array(y_batch).reshape((-1, 1))[sampling, :])\n",
    "        #y_batch = []\n",
    "        #firstiter=True\n",
    "        \n",
    "    if epsilon>0.01:\n",
    "        epsilon -= 0.895/80000\n",
    "        \n",
    "    #if nb_env %600 == 0:\n",
    "        #print(\"RESET\")\n",
    "        #epsilon = 0.9"
   ]
  },
  {
   "cell_type": "code",
   "execution_count": 14,
   "metadata": {
    "collapsed": true
   },
   "outputs": [],
   "source": [
    "model = build_model()"
   ]
  },
  {
   "cell_type": "code",
   "execution_count": 15,
   "metadata": {
    "collapsed": true
   },
   "outputs": [],
   "source": [
    "model_bis = keras.models.Model.from_config(model.get_config())"
   ]
  },
  {
   "cell_type": "code",
   "execution_count": 32,
   "metadata": {
    "collapsed": false
   },
   "outputs": [],
   "source": [
    "class my_worker(multiprocessing.Process):\n",
    "    \n",
    "    def __init__(self, **args):\n",
    "        multiprocessing.Process.__init__(self, args)"
   ]
  },
  {
   "cell_type": "code",
   "execution_count": 34,
   "metadata": {
    "collapsed": false
   },
   "outputs": [
    {
     "ename": "AssertionError",
     "evalue": "group argument must be None for now",
     "output_type": "error",
     "traceback": [
      "\u001b[0;31m---------------------------------------------------------------------------\u001b[0m",
      "\u001b[0;31mAssertionError\u001b[0m                            Traceback (most recent call last)",
      "\u001b[0;32m<ipython-input-34-9b4bde2432e7>\u001b[0m in \u001b[0;36m<module>\u001b[0;34m()\u001b[0m\n\u001b[0;32m----> 1\u001b[0;31m \u001b[0ma\u001b[0m \u001b[0;34m=\u001b[0m \u001b[0mmy_worker\u001b[0m\u001b[0;34m(\u001b[0m\u001b[0mgroup\u001b[0m\u001b[0;34m=\u001b[0m\u001b[0mNone\u001b[0m\u001b[0;34m)\u001b[0m\u001b[0;34m\u001b[0m\u001b[0m\n\u001b[0m",
      "\u001b[0;32m<ipython-input-32-05f211aa9344>\u001b[0m in \u001b[0;36m__init__\u001b[0;34m(self, **args)\u001b[0m\n\u001b[1;32m      2\u001b[0m \u001b[0;34m\u001b[0m\u001b[0m\n\u001b[1;32m      3\u001b[0m     \u001b[0;32mdef\u001b[0m \u001b[0m__init__\u001b[0m\u001b[0;34m(\u001b[0m\u001b[0mself\u001b[0m\u001b[0;34m,\u001b[0m \u001b[0;34m**\u001b[0m\u001b[0margs\u001b[0m\u001b[0;34m)\u001b[0m\u001b[0;34m:\u001b[0m\u001b[0;34m\u001b[0m\u001b[0m\n\u001b[0;32m----> 4\u001b[0;31m         \u001b[0mmultiprocessing\u001b[0m\u001b[0;34m.\u001b[0m\u001b[0mProcess\u001b[0m\u001b[0;34m.\u001b[0m\u001b[0m__init__\u001b[0m\u001b[0;34m(\u001b[0m\u001b[0mself\u001b[0m\u001b[0;34m,\u001b[0m \u001b[0margs\u001b[0m\u001b[0;34m)\u001b[0m\u001b[0;34m\u001b[0m\u001b[0m\n\u001b[0m",
      "\u001b[0;32m/usr/lib/python2.7/multiprocessing/process.pyc\u001b[0m in \u001b[0;36m__init__\u001b[0;34m(self, group, target, name, args, kwargs)\u001b[0m\n\u001b[1;32m     93\u001b[0m \u001b[0;34m\u001b[0m\u001b[0m\n\u001b[1;32m     94\u001b[0m     \u001b[0;32mdef\u001b[0m \u001b[0m__init__\u001b[0m\u001b[0;34m(\u001b[0m\u001b[0mself\u001b[0m\u001b[0;34m,\u001b[0m \u001b[0mgroup\u001b[0m\u001b[0;34m=\u001b[0m\u001b[0mNone\u001b[0m\u001b[0;34m,\u001b[0m \u001b[0mtarget\u001b[0m\u001b[0;34m=\u001b[0m\u001b[0mNone\u001b[0m\u001b[0;34m,\u001b[0m \u001b[0mname\u001b[0m\u001b[0;34m=\u001b[0m\u001b[0mNone\u001b[0m\u001b[0;34m,\u001b[0m \u001b[0margs\u001b[0m\u001b[0;34m=\u001b[0m\u001b[0;34m(\u001b[0m\u001b[0;34m)\u001b[0m\u001b[0;34m,\u001b[0m \u001b[0mkwargs\u001b[0m\u001b[0;34m=\u001b[0m\u001b[0;34m{\u001b[0m\u001b[0;34m}\u001b[0m\u001b[0;34m)\u001b[0m\u001b[0;34m:\u001b[0m\u001b[0;34m\u001b[0m\u001b[0m\n\u001b[0;32m---> 95\u001b[0;31m         \u001b[0;32massert\u001b[0m \u001b[0mgroup\u001b[0m \u001b[0;32mis\u001b[0m \u001b[0mNone\u001b[0m\u001b[0;34m,\u001b[0m \u001b[0;34m'group argument must be None for now'\u001b[0m\u001b[0;34m\u001b[0m\u001b[0m\n\u001b[0m\u001b[1;32m     96\u001b[0m         \u001b[0mcount\u001b[0m \u001b[0;34m=\u001b[0m \u001b[0m_current_process\u001b[0m\u001b[0;34m.\u001b[0m\u001b[0m_counter\u001b[0m\u001b[0;34m.\u001b[0m\u001b[0mnext\u001b[0m\u001b[0;34m(\u001b[0m\u001b[0;34m)\u001b[0m\u001b[0;34m\u001b[0m\u001b[0m\n\u001b[1;32m     97\u001b[0m         \u001b[0mself\u001b[0m\u001b[0;34m.\u001b[0m\u001b[0m_identity\u001b[0m \u001b[0;34m=\u001b[0m \u001b[0m_current_process\u001b[0m\u001b[0;34m.\u001b[0m\u001b[0m_identity\u001b[0m \u001b[0;34m+\u001b[0m \u001b[0;34m(\u001b[0m\u001b[0mcount\u001b[0m\u001b[0;34m,\u001b[0m\u001b[0;34m)\u001b[0m\u001b[0;34m\u001b[0m\u001b[0m\n",
      "\u001b[0;31mAssertionError\u001b[0m: group argument must be None for now"
     ]
    }
   ],
   "source": [
    "a = my_worker(group=None)"
   ]
  },
  {
   "cell_type": "code",
   "execution_count": 40,
   "metadata": {
    "collapsed": false
   },
   "outputs": [
    {
     "ename": "OverflowError",
     "evalue": "cannot convert float infinity to integer",
     "output_type": "error",
     "traceback": [
      "\u001b[0;31m---------------------------------------------------------------------------\u001b[0m",
      "\u001b[0;31mOverflowError\u001b[0m                             Traceback (most recent call last)",
      "\u001b[0;32m<ipython-input-40-e6e14d170ac7>\u001b[0m in \u001b[0;36m<module>\u001b[0;34m()\u001b[0m\n\u001b[1;32m      1\u001b[0m \u001b[0mcounter\u001b[0m \u001b[0;34m=\u001b[0m \u001b[0;36m0\u001b[0m\u001b[0;34m\u001b[0m\u001b[0m\n\u001b[0;32m----> 2\u001b[0;31m \u001b[0;32mfor\u001b[0m \u001b[0mi\u001b[0m \u001b[0;32min\u001b[0m \u001b[0mrange\u001b[0m\u001b[0;34m(\u001b[0m\u001b[0mint\u001b[0m\u001b[0;34m(\u001b[0m\u001b[0mnp\u001b[0m\u001b[0;34m.\u001b[0m\u001b[0minf\u001b[0m\u001b[0;34m)\u001b[0m\u001b[0;34m)\u001b[0m\u001b[0;34m:\u001b[0m\u001b[0;34m\u001b[0m\u001b[0m\n\u001b[0m\u001b[1;32m      3\u001b[0m     \u001b[0mcounter\u001b[0m \u001b[0;34m+=\u001b[0m \u001b[0;36m1\u001b[0m\u001b[0;34m\u001b[0m\u001b[0m\n\u001b[1;32m      4\u001b[0m     \u001b[0;32mif\u001b[0m \u001b[0mcounter\u001b[0m \u001b[0;34m>\u001b[0m \u001b[0;36m500\u001b[0m\u001b[0;34m:\u001b[0m\u001b[0;34m\u001b[0m\u001b[0m\n\u001b[1;32m      5\u001b[0m         \u001b[0;32mbreak\u001b[0m\u001b[0;34m\u001b[0m\u001b[0m\n",
      "\u001b[0;31mOverflowError\u001b[0m: cannot convert float infinity to integer"
     ]
    }
   ],
   "source": []
  },
  {
   "cell_type": "code",
   "execution_count": 7,
   "metadata": {
    "collapsed": true
   },
   "outputs": [],
   "source": [
    "import threading\n",
    "import Queue\n",
    "import time\n",
    "import cython\n",
    "import multiprocessing as mp\n",
    "\n",
    "import numpy as np"
   ]
  },
  {
   "cell_type": "code",
   "execution_count": 25,
   "metadata": {
    "collapsed": false
   },
   "outputs": [],
   "source": [
    "theta=mp.Array(ctypes.c_double,6)"
   ]
  },
  {
   "cell_type": "code",
   "execution_count": 12,
   "metadata": {
    "collapsed": false
   },
   "outputs": [],
   "source": [
    "theta.value = np.array([1, 2, 3, 4, 5])"
   ]
  },
  {
   "cell_type": "code",
   "execution_count": 13,
   "metadata": {
    "collapsed": false
   },
   "outputs": [
    {
     "name": "stdout",
     "output_type": "stream",
     "text": [
      "<class 'multiprocessing.sharedctypes.SynchronizedArray'>\n"
     ]
    }
   ],
   "source": [
    "print(type(theta))"
   ]
  },
  {
   "cell_type": "code",
   "execution_count": 21,
   "metadata": {
    "collapsed": false
   },
   "outputs": [
    {
     "data": {
      "text/plain": [
       "6"
      ]
     },
     "execution_count": 21,
     "metadata": {},
     "output_type": "execute_result"
    }
   ],
   "source": [
    "model = build_model()\n",
    "a = model.get_weights()\n",
    "len(a)"
   ]
  },
  {
   "cell_type": "code",
   "execution_count": 29,
   "metadata": {
    "collapsed": false
   },
   "outputs": [],
   "source": [
    "theta.value=a\n",
    "#theta.value"
   ]
  },
  {
   "cell_type": "code",
   "execution_count": 45,
   "metadata": {
    "collapsed": true
   },
   "outputs": [],
   "source": [
    "n = 100\n",
    "m = 100000"
   ]
  },
  {
   "cell_type": "code",
   "execution_count": 46,
   "metadata": {
    "collapsed": true
   },
   "outputs": [],
   "source": [
    "def target_fonction(queue):\n",
    "    for i in range(n):\n",
    "        counter = 0\n",
    "        while counter<m:\n",
    "            counter += 1\n",
    "        queue.put(1)\n",
    "    print(\"Done\")\n",
    "    return"
   ]
  },
  {
   "cell_type": "code",
   "execution_count": 47,
   "metadata": {
    "collapsed": false
   },
   "outputs": [],
   "source": [
    "class my_worker(multiprocessing.Process):\n",
    "    \n",
    "    def __init__(self, n, nb, **kwargs):\n",
    "        self.a = 0\n",
    "        self.n=n\n",
    "        self.nb=nb\n",
    "        super(my_worker, self).__init__(**kwargs)\n",
    "    \n",
    "    def run(self):\n",
    "        global a\n",
    "        while a.value < self.nb*self.n:\n",
    "            counter = 0\n",
    "            while counter<m:\n",
    "                counter += 1\n",
    "            with a.get_lock():\n",
    "                a.value += 1\n",
    "        print(\"Done\")\n",
    "        return"
   ]
  },
  {
   "cell_type": "code",
   "execution_count": 48,
   "metadata": {
    "collapsed": false
   },
   "outputs": [],
   "source": [
    "p = my_worker(200, 10)"
   ]
  },
  {
   "cell_type": "code",
   "execution_count": 49,
   "metadata": {
    "collapsed": true
   },
   "outputs": [],
   "source": [
    "def master_function(nb):\n",
    "    global b\n",
    "    global a\n",
    "    jobs = []\n",
    "    for i in range(nb):\n",
    "        p = my_worker(n)\n",
    "        p.start()\n",
    "        jobs.append(p)\n",
    "    counter = 0\n",
    "    while a.value < nb * n:\n",
    "        counter += 1\n",
    "        if counter %50000000 == 0:\n",
    "            print(\"a = %s\"%a.value)\n",
    "    b = 1\n",
    "    print(\"a = %s\"%a.value)\n",
    "    return"
   ]
  },
  {
   "cell_type": "code",
   "execution_count": 50,
   "metadata": {
    "collapsed": true
   },
   "outputs": [],
   "source": [
    "def main(nb):\n",
    "    global a\n",
    "    a = multiprocessing.Value('i', 0)\n",
    "    jobs = []\n",
    "    for i in range(nb):\n",
    "        p = my_worker(n, nb)\n",
    "        p.start()\n",
    "        jobs.append(p)\n",
    "    for job in jobs:\n",
    "        job.join()\n",
    "    print(\"a = %s\"%a.value)"
   ]
  },
  {
   "cell_type": "code",
   "execution_count": 51,
   "metadata": {
    "collapsed": false
   },
   "outputs": [
    {
     "name": "stdout",
     "output_type": "stream",
     "text": [
      "Done\n",
      "Done\n",
      "Done\n",
      "a = 302\n",
      "Done in 0.659582138062 seconds\n"
     ]
    }
   ],
   "source": [
    "t_init = time.time()\n",
    "main(3)\n",
    "print(\"Done in %s seconds\"%(time.time()-t_init))"
   ]
  },
  {
   "cell_type": "code",
   "execution_count": 52,
   "metadata": {
    "collapsed": false
   },
   "outputs": [
    {
     "name": "stdout",
     "output_type": "stream",
     "text": [
      "Done\n",
      "Done\n",
      "Done\n",
      "a = 302\n",
      "Done in 0.630023002625 seconds\n"
     ]
    }
   ],
   "source": [
    "t_init = time.time()\n",
    "main(3)\n",
    "print(\"Done in %s seconds\"%(time.time()-t_init))"
   ]
  },
  {
   "cell_type": "code",
   "execution_count": 53,
   "metadata": {
    "collapsed": true
   },
   "outputs": [],
   "source": [
    "def main_bis(nb):\n",
    "    a = 0\n",
    "    for i in range(nb * n):\n",
    "        counter = 0\n",
    "        while counter<m:\n",
    "            counter += 1\n",
    "        a += 1\n",
    "    print(\"a = %s\"%a)"
   ]
  },
  {
   "cell_type": "code",
   "execution_count": 54,
   "metadata": {
    "collapsed": false
   },
   "outputs": [
    {
     "name": "stdout",
     "output_type": "stream",
     "text": [
      "a = 300\n",
      "Done in 1.20996499062 seconds\n"
     ]
    }
   ],
   "source": [
    "t_init = time.time() \n",
    "main_bis(3)\n",
    "print(\"Done in %s seconds\"%(time.time()-t_init))"
   ]
  },
  {
   "cell_type": "code",
   "execution_count": null,
   "metadata": {
    "collapsed": false
   },
   "outputs": [],
   "source": [
    "t_init = time.time() \n",
    "main_bis(3)\n",
    "print(\"Done in %s seconds\"%(time.time()-t_init))"
   ]
  },
  {
   "cell_type": "code",
   "execution_count": null,
   "metadata": {
    "collapsed": false
   },
   "outputs": [],
   "source": [
    "t_init = time.time() \n",
    "counter = 0\n",
    "while counter<m:\n",
    "    counter += 1\n",
    "print(\"Done in %s seconds\"%(time.time()-t_init))"
   ]
  },
  {
   "cell_type": "code",
   "execution_count": null,
   "metadata": {
    "collapsed": true
   },
   "outputs": [],
   "source": []
  },
  {
   "cell_type": "code",
   "execution_count": null,
   "metadata": {
    "collapsed": true
   },
   "outputs": [],
   "source": []
  }
 ],
 "metadata": {
  "kernelspec": {
   "display_name": "Python 2",
   "language": "python",
   "name": "python2"
  },
  "language_info": {
   "codemirror_mode": {
    "name": "ipython",
    "version": 2
   },
   "file_extension": ".py",
   "mimetype": "text/x-python",
   "name": "python",
   "nbconvert_exporter": "python",
   "pygments_lexer": "ipython2",
   "version": "2.7.12"
  }
 },
 "nbformat": 4,
 "nbformat_minor": 1
}
